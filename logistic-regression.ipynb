{
 "cells": [
  {
   "cell_type": "code",
   "execution_count": null,
   "metadata": {
    "collapsed": true
   },
   "outputs": [],
   "source": [
    "import numpy as np\n",
    "# m: number of samples\n",
    "# n: feature dimension\n",
    "# X: m x n matrix, each row is an observation\n",
    "# y: m x 1 vector\n",
    "# w: n x 1 weight \n",
    "# b: 1 x 1 bias\n",
    "# lambd: 1 x 1 regularization parameter\n",
    "# alpah: 1 x 1 learning rate\n",
    "\n",
    "def logistic_fcn(X, w, b):\n",
    "    return 1/(1 + np.exp(-(np.dot(X, w)+b)))\n",
    "\n",
    "def update_weight_vectorized(X, y, w, b, lambd, alpha):\n",
    "    m = X.shape[0]\n",
    "    n = X.shape[1]\n",
    "    \n",
    "    predict = logistic_fcn(X, w, b)\n",
    "    J = (-np.dot(y.T, np.log(predict)) - np.dot((1-y).T, np.log(1-predict)))/m\n",
    "    J += lambd * np.sum(w**2)/2\n",
    "    error = predict - y\n",
    "    dw = np.dot(X.T, error)/m\n",
    "    dw += lambd * w\n",
    "    db = np.sum(error)/m\n",
    "    \n",
    "    w -= alpha * dw\n",
    "    b -= alpha * db\n",
    "    \n",
    "    return (w, b, J)\n",
    "    "
   ]
  }
 ],
 "metadata": {
  "kernelspec": {
   "display_name": "Python 3",
   "language": "python",
   "name": "python3"
  },
  "language_info": {
   "codemirror_mode": {
    "name": "ipython",
    "version": 3
   },
   "file_extension": ".py",
   "mimetype": "text/x-python",
   "name": "python",
   "nbconvert_exporter": "python",
   "pygments_lexer": "ipython3",
   "version": "3.6.3"
  }
 },
 "nbformat": 4,
 "nbformat_minor": 2
}
