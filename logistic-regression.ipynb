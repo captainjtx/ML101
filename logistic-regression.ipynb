{
 "cells": [
  {
   "cell_type": "code",
   "execution_count": null,
   "metadata": {
    "collapsed": true
   },
   "outputs": [],
   "source": [
    "import numpy as np\n",
    "# m: number of samples\n",
    "# n: number of features\n",
    "# c: number of classes \n",
    "# X: m x n matrix, each row is an observation\n",
    "# Y: m x c one-hot coded label matrix\n",
    "# w: n x 1 weight \n",
    "# b: 1 x 1 bias\n",
    "# lambd: 1 x 1 regularization parameter\n",
    "# alpah: 1 x 1 learning rate\n",
    "\n",
    "def logistic_fcn(X, w, b):\n",
    "    return 1/(1+np.exp(-(np.dot(X, w)+b)))\n",
    "\n",
    "def update_weight_vectorized(X, Y, w, b, lambd, alpha):\n",
    "    m, n = X.shape\n",
    "    \n",
    "    predict = logistic_fcn(X, w, b)\n",
    "    J = (-np.dot(Y.T, np.log(predict))-np.dot((1-Y).T, np.log(1-predict)))/m\n",
    "    J += lambd*np.sum(w**2)/2\n",
    "    error = predict-Y\n",
    "    dw = np.dot(X.T, error)/m\n",
    "    dw += lambd*w\n",
    "    db = np.sum(error)/m\n",
    "    \n",
    "    w -= alpha*dw\n",
    "    b -= alpha*db\n",
    "    \n",
    "    return (w, b, J)\n",
    "    "
   ]
  }
 ],
 "metadata": {
  "kernelspec": {
   "display_name": "Python 3",
   "language": "python",
   "name": "python3"
  },
  "language_info": {
   "codemirror_mode": {
    "name": "ipython",
    "version": 3
   },
   "file_extension": ".py",
   "mimetype": "text/x-python",
   "name": "python",
   "nbconvert_exporter": "python",
   "pygments_lexer": "ipython3",
   "version": "3.6.3"
  }
 },
 "nbformat": 4,
 "nbformat_minor": 2
}
