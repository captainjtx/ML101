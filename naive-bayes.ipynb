{
 "cells": [
  {
   "cell_type": "code",
   "execution_count": 21,
   "metadata": {
    "collapsed": true
   },
   "outputs": [],
   "source": [
    "import numpy as np\n",
    "# m: number of samples\n",
    "# n: number of features\n",
    "# c: number of classes\n",
    "# X: m x n, discretized feature matrix, X[i][j] is in range [0, k[j]-1] \n",
    "# y: m x 1, label vector, y[i] is in [0, c]\n",
    "# k: n x 1, feature category vector, k[ni] is the number of categories for feature ni\n",
    "# maximum_likelihood: c x n x [], 2d list of maximum likelihood probability\n",
    "# prior: c x 1, prior probability of class distribution\n",
    "def model(X, y, c, k):\n",
    "    m, n = X.shape\n",
    "    \n",
    "    prior = np.ones(c)/(m+c) # prior probability, laplace smoothing\n",
    "    unique, counts = np.unique(y, return_counts = True)\n",
    "    prior[unique] = (counts+1)/(m+c) # laplace smooting\n",
    "    \n",
    "    maximum_likelihood = [[[]]*n]*c # 2d list of empty list, maximum likelihood\n",
    "    for ci in range(c): # build the maximum likelihood \n",
    "        for ni in range(n):\n",
    "            unique_k, count_k = np.unique(X[y == ci, ni], return_counts = True)\n",
    "            num_count = np.sum(count_k)\n",
    "            maximum_likelihood_local = np.ones(k[ni])/(num_count+k[ni])  # laplace smoothing\n",
    "            maximum_likelihood_local[unique_k] = (count_k+1)/(num_count+k[ni]) # laplace smoothing\n",
    "            maximum_likelihood[ci][ni] = maximum_likelihood_local\n",
    "            \n",
    "    return maximum_likelihood, prior\n",
    "\n",
    "def predict(x, maximum_likelihood, prior):\n",
    "    n = len(x)\n",
    "    c = len(maximum_likelihood)\n",
    "    # maximum likelihood for input x on n features (conditional independent)\n",
    "    maximum_likelihood_local = \\\n",
    "    [reduce(lambda x, y: x*y, [ml[ci][ni][x[ni]] for ni in range(n)]) for ci in range(c)]\n",
    "    # posterior probability\n",
    "    post = maximum_likelihood_local * prior\n",
    "    post /= np.sum(post) # normalize by p(x)\n",
    "    y = np.argmax(post)\n",
    "    return y, post\n",
    "    "
   ]
  },
  {
   "cell_type": "code",
   "execution_count": 31,
   "metadata": {},
   "outputs": [
    {
     "name": "stdout",
     "output_type": "stream",
     "text": [
      "1\n"
     ]
    }
   ],
   "source": [
    "import numpy as np\n",
    "a = \\\n",
    "1\n",
    "print(a)"
   ]
  },
  {
   "cell_type": "code",
   "execution_count": null,
   "metadata": {
    "collapsed": true
   },
   "outputs": [],
   "source": []
  }
 ],
 "metadata": {
  "kernelspec": {
   "display_name": "Python 3",
   "language": "python",
   "name": "python3"
  },
  "language_info": {
   "codemirror_mode": {
    "name": "ipython",
    "version": 3
   },
   "file_extension": ".py",
   "mimetype": "text/x-python",
   "name": "python",
   "nbconvert_exporter": "python",
   "pygments_lexer": "ipython3",
   "version": "3.6.3"
  }
 },
 "nbformat": 4,
 "nbformat_minor": 2
}
