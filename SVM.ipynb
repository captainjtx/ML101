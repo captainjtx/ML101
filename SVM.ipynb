{
 "cells": [
  {
   "cell_type": "code",
   "execution_count": null,
   "metadata": {
    "collapsed": true
   },
   "outputs": [],
   "source": [
    "import numpy as np\n",
    "# m: number of samples\n",
    "# n: feature dimension\n",
    "# c: number of classes\n",
    "# X: m x n matrix, each row is an observation\n",
    "# Y: m x c matrix of class labels, one-hot coded\n",
    "# W: n x c weight \n",
    "# b: c x 1 bias\n",
    "# lambd: 1 x 1 regularization parameter\n",
    "# alpah: 1 x 1 learning rate\n",
    "def update_weight_vectorized(X, Y, W, b, lambd, alpha):\n",
    "    m = X.shape[0]\n",
    "    n = X.shape[1]\n",
    "    delta = 1 # delta can be any number\n",
    "    S = np.dot(X, W) + b # predict score, m x c matrix\n",
    "    label_score = np.amax(S*Y, axis = 1) # m x c matrix\n",
    "    unclipped_loss = (S - label_score + delta) * (1-Y) # m x c matrix\n",
    "    mask = unclipped_loss > 0 # m x c matrix\n",
    "    hinge_loss = np.sum(np.maximum(unclipped_loss, 0)) / m # hinge loss\n",
    "    hinge_loss += lambd * np.sum(W**2)/2\n",
    "    \n",
    "    dS = mask - Y * np.sum(mask, axis = 1) # m x c matrix\n",
    "    dW = np.dot(X.T, dS) / m\n",
    "    dW += lambd * W\n",
    "    db = np.sum(dS.T, axis = 1) / m\n",
    "    \n",
    "    W -= alpha * dW\n",
    "    b -= alpha * db\n",
    "    \n",
    "    return (W, b, hinge_loss)\n",
    "\n",
    "def predict(X, W, b):\n",
    "    m = X.shape[0]\n",
    "    n = X.shape[1]\n",
    "    delta = 1\n",
    "    S = np.dot(X, W) + b\n",
    "    label = np.argmax(S, axis = 1) # m x 1 vector\n",
    "    \n",
    "    return label\n",
    "    \n",
    "\n",
    "    "
   ]
  }
 ],
 "metadata": {
  "kernelspec": {
   "display_name": "Python 3",
   "language": "python",
   "name": "python3"
  },
  "language_info": {
   "codemirror_mode": {
    "name": "ipython",
    "version": 3
   },
   "file_extension": ".py",
   "mimetype": "text/x-python",
   "name": "python",
   "nbconvert_exporter": "python",
   "pygments_lexer": "ipython3",
   "version": "3.6.3"
  }
 },
 "nbformat": 4,
 "nbformat_minor": 2
}
